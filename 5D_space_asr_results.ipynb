{
  "nbformat": 4,
  "nbformat_minor": 0,
  "metadata": {
    "colab": {
      "name": "5D_space_scripts.ipynb",
      "provenance": [],
      "authorship_tag": "ABX9TyOsn2CqlFGUoAKdEFRa4doo",
      "include_colab_link": true
    },
    "kernelspec": {
      "name": "python3",
      "display_name": "Python 3"
    },
    "language_info": {
      "name": "python"
    }
  },
  "cells": [
    {
      "cell_type": "markdown",
      "metadata": {
        "id": "view-in-github",
        "colab_type": "text"
      },
      "source": [
        "<a href=\"https://colab.research.google.com/github/braxtonowens/Sample_GBDB/blob/main/5D_space_asr_results.ipynb\" target=\"_parent\"><img src=\"https://colab.research.google.com/assets/colab-badge.svg\" alt=\"Open In Colab\"/></a>"
      ]
    },
    {
      "cell_type": "code",
      "execution_count": 1,
      "metadata": {
        "colab": {
          "base_uri": "https://localhost:8080/"
        },
        "id": "cqBeSr6tr5vO",
        "outputId": "09bb3db6-a813-4c87-9557-28ae2cf7c87e"
      },
      "outputs": [
        {
          "output_type": "stream",
          "name": "stdout",
          "text": [
            "Requirement already satisfied: dscribe in /usr/local/lib/python3.7/dist-packages (1.2.1)\n",
            "Requirement already satisfied: joblib>=1.0.0 in /usr/local/lib/python3.7/dist-packages (from dscribe) (1.1.0)\n",
            "Requirement already satisfied: ase>=3.19.0 in /usr/local/lib/python3.7/dist-packages (from dscribe) (3.22.1)\n",
            "Requirement already satisfied: numpy in /usr/local/lib/python3.7/dist-packages (from dscribe) (1.21.5)\n",
            "Requirement already satisfied: scipy in /usr/local/lib/python3.7/dist-packages (from dscribe) (1.4.1)\n",
            "Requirement already satisfied: scikit-learn in /usr/local/lib/python3.7/dist-packages (from dscribe) (1.0.2)\n",
            "Requirement already satisfied: sparse in /usr/local/lib/python3.7/dist-packages (from dscribe) (0.13.0)\n",
            "Requirement already satisfied: pybind11>=2.4 in /usr/local/lib/python3.7/dist-packages (from dscribe) (2.9.1)\n",
            "Requirement already satisfied: matplotlib>=3.1.0 in /usr/local/lib/python3.7/dist-packages (from ase>=3.19.0->dscribe) (3.5.1)\n",
            "Requirement already satisfied: pyparsing>=2.2.1 in /usr/local/lib/python3.7/dist-packages (from matplotlib>=3.1.0->ase>=3.19.0->dscribe) (3.0.7)\n",
            "Requirement already satisfied: python-dateutil>=2.7 in /usr/local/lib/python3.7/dist-packages (from matplotlib>=3.1.0->ase>=3.19.0->dscribe) (2.8.2)\n",
            "Requirement already satisfied: packaging>=20.0 in /usr/local/lib/python3.7/dist-packages (from matplotlib>=3.1.0->ase>=3.19.0->dscribe) (21.3)\n",
            "Requirement already satisfied: kiwisolver>=1.0.1 in /usr/local/lib/python3.7/dist-packages (from matplotlib>=3.1.0->ase>=3.19.0->dscribe) (1.3.2)\n",
            "Requirement already satisfied: pillow>=6.2.0 in /usr/local/lib/python3.7/dist-packages (from matplotlib>=3.1.0->ase>=3.19.0->dscribe) (7.1.2)\n",
            "Requirement already satisfied: fonttools>=4.22.0 in /usr/local/lib/python3.7/dist-packages (from matplotlib>=3.1.0->ase>=3.19.0->dscribe) (4.31.1)\n",
            "Requirement already satisfied: cycler>=0.10 in /usr/local/lib/python3.7/dist-packages (from matplotlib>=3.1.0->ase>=3.19.0->dscribe) (0.11.0)\n",
            "Requirement already satisfied: six>=1.5 in /usr/local/lib/python3.7/dist-packages (from python-dateutil>=2.7->matplotlib>=3.1.0->ase>=3.19.0->dscribe) (1.15.0)\n",
            "Requirement already satisfied: threadpoolctl>=2.0.0 in /usr/local/lib/python3.7/dist-packages (from scikit-learn->dscribe) (3.1.0)\n",
            "Requirement already satisfied: numba>=0.49 in /usr/local/lib/python3.7/dist-packages (from sparse->dscribe) (0.51.2)\n",
            "Requirement already satisfied: llvmlite<0.35,>=0.34.0.dev0 in /usr/local/lib/python3.7/dist-packages (from numba>=0.49->sparse->dscribe) (0.34.0)\n",
            "Requirement already satisfied: setuptools in /usr/local/lib/python3.7/dist-packages (from numba>=0.49->sparse->dscribe) (57.4.0)\n",
            "Requirement already satisfied: ase in /usr/local/lib/python3.7/dist-packages (3.22.1)\n",
            "Requirement already satisfied: matplotlib>=3.1.0 in /usr/local/lib/python3.7/dist-packages (from ase) (3.5.1)\n",
            "Requirement already satisfied: numpy>=1.15.0 in /usr/local/lib/python3.7/dist-packages (from ase) (1.21.5)\n",
            "Requirement already satisfied: scipy>=1.1.0 in /usr/local/lib/python3.7/dist-packages (from ase) (1.4.1)\n",
            "Requirement already satisfied: fonttools>=4.22.0 in /usr/local/lib/python3.7/dist-packages (from matplotlib>=3.1.0->ase) (4.31.1)\n",
            "Requirement already satisfied: packaging>=20.0 in /usr/local/lib/python3.7/dist-packages (from matplotlib>=3.1.0->ase) (21.3)\n",
            "Requirement already satisfied: pyparsing>=2.2.1 in /usr/local/lib/python3.7/dist-packages (from matplotlib>=3.1.0->ase) (3.0.7)\n",
            "Requirement already satisfied: kiwisolver>=1.0.1 in /usr/local/lib/python3.7/dist-packages (from matplotlib>=3.1.0->ase) (1.3.2)\n",
            "Requirement already satisfied: python-dateutil>=2.7 in /usr/local/lib/python3.7/dist-packages (from matplotlib>=3.1.0->ase) (2.8.2)\n",
            "Requirement already satisfied: cycler>=0.10 in /usr/local/lib/python3.7/dist-packages (from matplotlib>=3.1.0->ase) (0.11.0)\n",
            "Requirement already satisfied: pillow>=6.2.0 in /usr/local/lib/python3.7/dist-packages (from matplotlib>=3.1.0->ase) (7.1.2)\n",
            "Requirement already satisfied: six>=1.5 in /usr/local/lib/python3.7/dist-packages (from python-dateutil>=2.7->matplotlib>=3.1.0->ase) (1.15.0)\n"
          ]
        }
      ],
      "source": [
        "# Google's Python Environment does not have dscribe(library used to run SOAP) Installed.\n",
        "# The use of ! in the cell runs terminal command.\n",
        "# This takes a few minutes to Download :( \n",
        "!pip install dscribe\n",
        "!pip install ase"
      ]
    },
    {
      "cell_type": "code",
      "source": [
        "!pip install --upgrade matplotlib"
      ],
      "metadata": {
        "colab": {
          "base_uri": "https://localhost:8080/"
        },
        "id": "sPPgkFrv0PZn",
        "outputId": "f5d5aefe-9a1e-4c9d-bdcc-834f36c06df4"
      },
      "execution_count": 2,
      "outputs": [
        {
          "output_type": "stream",
          "name": "stdout",
          "text": [
            "Requirement already satisfied: matplotlib in /usr/local/lib/python3.7/dist-packages (3.5.1)\n",
            "Requirement already satisfied: kiwisolver>=1.0.1 in /usr/local/lib/python3.7/dist-packages (from matplotlib) (1.3.2)\n",
            "Requirement already satisfied: python-dateutil>=2.7 in /usr/local/lib/python3.7/dist-packages (from matplotlib) (2.8.2)\n",
            "Requirement already satisfied: fonttools>=4.22.0 in /usr/local/lib/python3.7/dist-packages (from matplotlib) (4.31.1)\n",
            "Requirement already satisfied: numpy>=1.17 in /usr/local/lib/python3.7/dist-packages (from matplotlib) (1.21.5)\n",
            "Requirement already satisfied: pyparsing>=2.2.1 in /usr/local/lib/python3.7/dist-packages (from matplotlib) (3.0.7)\n",
            "Requirement already satisfied: packaging>=20.0 in /usr/local/lib/python3.7/dist-packages (from matplotlib) (21.3)\n",
            "Requirement already satisfied: pillow>=6.2.0 in /usr/local/lib/python3.7/dist-packages (from matplotlib) (7.1.2)\n",
            "Requirement already satisfied: cycler>=0.10 in /usr/local/lib/python3.7/dist-packages (from matplotlib) (0.11.0)\n",
            "Requirement already satisfied: six>=1.5 in /usr/local/lib/python3.7/dist-packages (from python-dateutil>=2.7->matplotlib) (1.15.0)\n"
          ]
        }
      ]
    },
    {
      "cell_type": "code",
      "source": [
        "!git clone https://github.com/braxtonowens/Sample_GBDB.git\n"
      ],
      "metadata": {
        "colab": {
          "base_uri": "https://localhost:8080/"
        },
        "id": "nyWY1BG_sD-D",
        "outputId": "425f13f4-efb7-4616-8201-93a72560e419"
      },
      "execution_count": 3,
      "outputs": [
        {
          "output_type": "stream",
          "name": "stdout",
          "text": [
            "fatal: destination path 'Sample_GBDB' already exists and is not an empty directory.\n"
          ]
        }
      ]
    },
    {
      "cell_type": "code",
      "source": [
        "#Use ASE to read LAMMPS output files\n",
        "import ase.io\n",
        "import os\n",
        "\n",
        "gbpath = '/content/Sample_GBDB/data_lammps_out'\n",
        "atoms = []\n",
        "for i,file in enumerate(os.listdir(gbpath)):\n",
        "  atoms.append(ase.io.read(os.path.join(gbpath,file)))\n",
        "  atoms[i].set_atomic_numbers([13 for i in atoms[i]])"
      ],
      "metadata": {
        "id": "PN30_GPCsHk-"
      },
      "execution_count": 4,
      "outputs": []
    },
    {
      "cell_type": "code",
      "source": [
        "# Calculate SOAP for 100 gbs\n",
        "# This will take a few minutes\n",
        "\n",
        "from dscribe.descriptors import SOAP\n",
        "\n",
        "species = ['Al']\n",
        "rcut = 6.0\n",
        "nmax = 8\n",
        "lmax = 6\n",
        "\n",
        "# Setting up the SOAP descriptor\n",
        "soap = SOAP(\n",
        "    species=species,\n",
        "    periodic=False,\n",
        "    rcut=rcut,\n",
        "    nmax=nmax,\n",
        "    lmax=lmax,\n",
        ")\n",
        "\n",
        "allsoap = soap.create(atoms)"
      ],
      "metadata": {
        "id": "kKrG6sdXsT9v"
      },
      "execution_count": 5,
      "outputs": []
    },
    {
      "cell_type": "code",
      "source": [
        "def trim_soap(gb, soap, rcut, dim=2):\n",
        "    # trim off slice of width rcut from the very top and bottom of the GB\n",
        "    gbCenter = 0\n",
        "    positions = gb.positions[:, dim]\n",
        "    trim_top = max(positions)-rcut\n",
        "    trim_bot = min(positions)+rcut\n",
        "    idx_del = np.where(np.logical_or(positions > trim_top, positions < trim_bot))[0]\n",
        "\n",
        "    #delete the given indices from soap along the 0 axis\n",
        "    trimmed_soap = np.delete(soap,idx_del,0)\n",
        "    return trimmed_soap"
      ],
      "metadata": {
        "id": "M8dLIhMDKNZs"
      },
      "execution_count": 6,
      "outputs": []
    },
    {
      "cell_type": "code",
      "source": [
        "import numpy as np\n",
        "for i,atom in enumerate(allsoap):\n",
        "    gb = atoms[i]\n",
        "    result = trim_soap(gb, allsoap[i], 3.74)"
      ],
      "metadata": {
        "id": "mjVM7RuiKT_w"
      },
      "execution_count": 7,
      "outputs": []
    },
    {
      "cell_type": "code",
      "source": [
        "def asr(allsoap, norm_asr=False):\n",
        "    # for each gb, average and add to matrix, and return\n",
        "    asr_matrix = []\n",
        "    magnitude = 1\n",
        "    for soap in allsoap:\n",
        "        asr_row = np.average(soap, axis=0)\n",
        "        if norm_asr is True:\n",
        "            magnitude = np.linalg.norm(asr_row)\n",
        "        asr_matrix.append(asr_row / magnitude)\n",
        "    return np.array(asr_matrix)"
      ],
      "metadata": {
        "id": "W61192-nahjz"
      },
      "execution_count": 8,
      "outputs": []
    },
    {
      "cell_type": "code",
      "source": [
        "asrvec = asr(allsoap)\n",
        "energies = np.load('/content/Sample_GBDB/energies.npy')\n",
        "print(np.shape(asrvec))\n",
        "print(np.shape(energies))"
      ],
      "metadata": {
        "colab": {
          "base_uri": "https://localhost:8080/"
        },
        "id": "PN81GpXKYhJ8",
        "outputId": "b800502b-33ab-493a-cce9-91426493057f"
      },
      "execution_count": 9,
      "outputs": [
        {
          "output_type": "stream",
          "name": "stdout",
          "text": [
            "(100, 252)\n",
            "(100,)\n"
          ]
        }
      ]
    },
    {
      "cell_type": "code",
      "source": [
        "def split_train_test_id(X,Y,idtrain,idvalid):\n",
        "    #split the data\n",
        "    K_train = X[idtrain,:].dot(X[idtrain,:].T) #subset of kernel matrix corresponding to training data\n",
        "    y_train = Y[idtrain]\n",
        "    K_valid = X[idvalid,:].dot(X[idtrain,:].T)\n",
        "    y_valid = Y[idvalid]\n",
        "    \n",
        "    #setup model\n",
        "    Cvalhomer = 10000; gammavalhomer = 'scale'; #(C,gamma) = (1000,100) in Homer paper\n",
        "    split_train_test.model = SVR(kernel='precomputed',C=Cvalhomer,gamma=gammavalhomer, verbose=False)\n",
        "    \n",
        "    #train the model\n",
        "    split_train_test.model.fit(K_train, y_train)\n",
        "    \n",
        "    #make predictions\n",
        "    y_pred_train = split_train_test.model.predict(K_train)\n",
        "    y_pred_valid = split_train_test.model.predict(K_valid)\n",
        "    \n",
        "    #calculate RMSE\n",
        "    train_rmse = np.sqrt(np.sum((y_pred_train - y_train)**2)/y_train.shape[0])\n",
        "    valid_rmse = np.sqrt(np.sum((y_pred_valid - y_valid)**2)/y_valid.shape[0])\n",
        "    #print('train RMS error: %f' % train_rmse)\n",
        "    #print('valid RMS error: %f' % valid_rmse)\n",
        "    \n",
        "    return (y_train, y_valid, y_pred_train, y_pred_valid, train_rmse, valid_rmse)"
      ],
      "metadata": {
        "id": "0wkaNffTbnN4"
      },
      "execution_count": 10,
      "outputs": []
    },
    {
      "cell_type": "code",
      "source": [
        "def split_train_test(X_train,X_test,Y_train,Y_test):\n",
        "    #split the data\n",
        "    K_train = X_train.dot(X_train.T) #subset of kernel matrix corresponding to training data\n",
        "    y_train = Y_train\n",
        "    K_valid = X_test.dot(X_train.T)\n",
        "    y_valid = Y_test\n",
        "    \n",
        "    #setup model\n",
        "    Cvalhomer = 10000; gammavalhomer = 'scale'; #(C,gamma) = (1000,100) in Homer paper\n",
        "    split_train_test.model = SVR(kernel='precomputed',C=Cvalhomer,gamma=gammavalhomer, verbose=False)\n",
        "    \n",
        "    #train the model\n",
        "    split_train_test.model.fit(K_train, y_train)\n",
        "    \n",
        "    #make predictions\n",
        "    y_pred_train = split_train_test.model.predict(K_train)\n",
        "    y_pred_valid = split_train_test.model.predict(K_valid)\n",
        "    \n",
        "    #calculate RMSE\n",
        "    train_rmse = np.sqrt(np.sum((y_pred_train - y_train)**2)/y_train.shape[0])\n",
        "    valid_rmse = np.sqrt(np.sum((y_pred_valid - y_valid)**2)/y_valid.shape[0])\n",
        "    #print('train RMS error: %f' % train_rmse)\n",
        "    #print('valid RMS error: %f' % valid_rmse)\n",
        "    \n",
        "    return (y_train, y_valid, y_pred_train, y_pred_valid, train_rmse, valid_rmse)"
      ],
      "metadata": {
        "id": "Pj4ledrJduTX"
      },
      "execution_count": 11,
      "outputs": []
    },
    {
      "cell_type": "code",
      "source": [
        "import pandas as pd\n",
        "df = pd.read_csv(\"/content/Sample_GBDB/Sample_Al_data.csv\")\n",
        "DisAngle = df.DisAngle #you can also use df['column_name']\n",
        "\n",
        "# turn aid_column to list\n",
        "\n",
        "list_DisAngle = DisAngle.tolist()\n",
        "    \n",
        "# 15 degree subset(split dataset by disangle 15 degree)\n",
        "\n",
        "low_15_index_train = []\n",
        "greater_15_index_test = []\n",
        "for i in range(len(list_DisAngle)):\n",
        "    if list_DisAngle[i] < 15:\n",
        "        low_15_index_train.append(i)\n",
        "    else:\n",
        "        greater_15_index_test.append(i)\n",
        "        \n",
        "low_20_index_train = []\n",
        "greater_20_index_test = []\n",
        "for i in range(len(list_DisAngle)):\n",
        "    if list_DisAngle[i] < 20:\n",
        "        low_20_index_train.append(i)\n",
        "    else:\n",
        "        greater_20_index_test.append(i)\n",
        "\n",
        "\n",
        "lowang_energy_15 = np.array([energies[i] for i in low_15_index_train])\n",
        "highang_energy_15 = np.array([energies[i] for i in greater_15_index_test])\n",
        "\n",
        "lowang_energy_20 = np.array([energies[i] for i in low_20_index_train])\n",
        "highang_energy_20 = np.array([energies[i] for i in greater_20_index_test])\n",
        "\n",
        "        \n",
        "lowang_sum_15 = np.array([asrvec[i] for i in low_15_index_train])\n",
        "highang_sum_15 = np.array([asrvec[i] for i in greater_15_index_test])\n",
        "\n",
        "lowang_sum_20 = np.array([asrvec[i] for i in low_20_index_train])\n",
        "highang_sum_20 = np.array([asrvec[i] for i in greater_20_index_test])"
      ],
      "metadata": {
        "id": "coqKV1akdvHn"
      },
      "execution_count": 12,
      "outputs": []
    },
    {
      "cell_type": "code",
      "source": [
        "from matplotlib import pyplot as plt\n",
        "from sklearn.svm import SVR\n",
        "\n",
        "\n",
        "#Train on low angle data(< 15 degrees) and validate on high angle data\n",
        "\n",
        "y_train_low, y_valid_low, y_pred_train_low, y_pred_valid_low, train_rmse_low, valid_rmse_low = split_train_test(lowang_sum_15,highang_sum_15,lowang_energy_15,highang_energy_15)"
      ],
      "metadata": {
        "id": "0kyuy_TIr57H"
      },
      "execution_count": 13,
      "outputs": []
    },
    {
      "cell_type": "code",
      "source": [
        "len(y_train_low)"
      ],
      "metadata": {
        "colab": {
          "base_uri": "https://localhost:8080/"
        },
        "id": "J2MqzW1a2TuL",
        "outputId": "e498d0fa-a379-459f-93c9-4551b7291368"
      },
      "execution_count": 14,
      "outputs": [
        {
          "output_type": "execute_result",
          "data": {
            "text/plain": [
              "1"
            ]
          },
          "metadata": {},
          "execution_count": 14
        }
      ]
    },
    {
      "cell_type": "code",
      "source": [
        "#get one random cross val\n",
        "\n",
        "from sklearn.svm import SVR\n",
        "from sklearn.model_selection import KFold\n",
        "\n",
        "kf = KFold(n_splits=5, shuffle = True)\n",
        "\n",
        "train_rmse_list = []\n",
        "valid_rmse_list = []\n",
        "\n",
        "i = 0; \n",
        "#save only first value\n",
        "for train_index, test_index in kf.split(asrvec):\n",
        "    if i==3:\n",
        "        y_train_rand, y_valid_rand, y_pred_train_rand, y_pred_valid_rand, train_rmse_rand, valid_rmse_rand = split_train_test_id(asrvec,energies,train_index,test_index)\n",
        "    i+=1"
      ],
      "metadata": {
        "id": "Jdr6uyFHsNkq"
      },
      "execution_count": 15,
      "outputs": []
    },
    {
      "cell_type": "code",
      "source": [
        "plt.scatter(y_train_rand, y_pred_train_rand)"
      ],
      "metadata": {
        "colab": {
          "base_uri": "https://localhost:8080/",
          "height": 283
        },
        "id": "er9XeQaF3I2L",
        "outputId": "9a32caa2-7c86-48fb-b3f9-2ae9e4cff94b"
      },
      "execution_count": 16,
      "outputs": [
        {
          "output_type": "execute_result",
          "data": {
            "text/plain": [
              "<matplotlib.collections.PathCollection at 0x7feddb16f8d0>"
            ]
          },
          "metadata": {},
          "execution_count": 16
        },
        {
          "output_type": "display_data",
          "data": {
            "text/plain": [
              "<Figure size 432x288 with 1 Axes>"
            ],
            "image/png": "[encoded data removed]"
          },
          "metadata": {
            "needs_background": "light"
          }
        }
      ]
    },
    {
      "cell_type": "code",
      "source": [
        "import random\n",
        "\n",
        "rng = np.random.default_rng()\n",
        "rng.shuffle(asrvec,axis=0) #this shuffles x so be careful when reusing it elsewhere.\n",
        "nGB=len(energies)\n",
        "ids = range(0,nGB)\n",
        "random.seed(9999)\n",
        "idtrain = np.array(random.sample(ids,int(2*nGB/3))) #randomly select N parts of the ids\n",
        "idvalid = np.array(list(set(ids).difference(set(idtrain))))\n",
        "\n",
        "y_train_shuf, y_valid_shuf, y_pred_train_shuf, y_pred_valid_shuf, train_rmse_shuf, valid_rmse_shuf = split_train_test_id(asrvec,energies,idtrain,idvalid)"
      ],
      "metadata": {
        "id": "ku-jpELQsWMj"
      },
      "execution_count": 17,
      "outputs": []
    },
    {
      "cell_type": "code",
      "source": [
        "\n",
        "\n",
        "import matplotlib.colors as mcolors\n",
        "cm = 1/2.54  # centimeters in inches\n",
        "fig, axarr = plt.subplots(2, 3,figsize=(19*cm,13*cm),sharex=True, sharey=True)\n",
        "fig.supxlabel('Computed GB Energy [mJ/m$^2$]')\n",
        "#random cross val\n",
        "im00 = axarr[0,0].hist2d(y_train_rand, y_pred_train_rand, bins=50,range=[[250, 625], [250, 625]], norm=mcolors.PowerNorm(.3, vmin=0, vmax=160), cmap=plt.cm.viridis)\n",
        "axarr[0,0].plot([250,625],[250,625])\n",
        "axarr[0,0].set_ylim(250,625)\n",
        "axarr[0,0].set_xlim(250,625)\n",
        "axarr[0,0].set_aspect('equal')\n",
        "\n",
        "im10 = axarr[1,0].hist2d(y_valid_rand, y_pred_valid_rand, bins=50, range=[[250, 625], [250, 625]],norm=mcolors.PowerNorm(.3, vmin=0, vmax=160), cmap=plt.cm.viridis)\n",
        "axarr[1,0].plot([250,625],[250,625])\n",
        "axarr[1,0].set_ylim(250,625)\n",
        "axarr[1,0].set_xlim(250,625)\n",
        "axarr[1,0].set_aspect('equal')\n",
        "\n",
        "\n",
        "#train low\n",
        "im01 = axarr[0,1].hist2d(y_train_low, y_pred_train_low, bins=50, range=[[250, 625], [250, 625]], norm=mcolors.PowerNorm(.3, vmin=0, vmax=160),cmap=plt.cm.viridis)\n",
        "axarr[0,1].plot([250,625],[250,625])\n",
        "axarr[0,1].set_ylim(250,625)\n",
        "axarr[0,1].set_xlim(250,625)\n",
        "axarr[0,1].set_aspect('equal')\n",
        "\n",
        "im11 = axarr[1,1].hist2d(y_valid_low, y_pred_valid_low, bins=50, range=[[250, 625], [250, 625]], norm=mcolors.PowerNorm(.3, vmin=0, vmax=160), cmap=plt.cm.viridis)\n",
        "axarr[1,1].plot([250,625],[250,625])\n",
        "axarr[1,1].set_ylim(250,625)\n",
        "axarr[1,1].set_xlim(250,625)\n",
        "axarr[1,1].set_aspect('equal')\n",
        "\n",
        "\n",
        "#shuffle\n",
        "im02 = axarr[0,2].hist2d(y_train_shuf, y_pred_train_shuf, bins=50, range=[[250, 625], [250, 625]], norm=mcolors.PowerNorm(.3, vmin=0, vmax=160), cmap=plt.cm.viridis)\n",
        "axarr[0,2].plot([250,625],[250,625])\n",
        "axarr[0,2].set_ylim(250,625)\n",
        "axarr[0,2].set_xlim(250,625)\n",
        "axarr[0,2].set_aspect('equal')\n",
        "\n",
        "im12 = axarr[1,2].hist2d(y_valid_shuf, y_pred_valid_shuf, bins=50, range=[[250, 625], [250, 625]], norm=mcolors.PowerNorm(.3, vmin=0, vmax=160), cmap=plt.cm.viridis)\n",
        "axarr[1,2].plot([250,625],[250,625])\n",
        "axarr[1,2].set_ylim(250,625)\n",
        "axarr[1,2].set_xlim(250,625)\n",
        "axarr[1,2].set_aspect('equal')\n",
        "\n",
        "\n",
        "\n",
        "fig.subplots_adjust(wspace=0.05, hspace=.1)\n",
        "cbar_ax2 = fig.add_axes([.91, 0.16, 0.01, 0.7])\n",
        "cbar = fig.colorbar(im12[3], cax=cbar_ax2,aspect=1)\n",
        "cbar.set_label(\"# of GBs per 2D bin\")\n",
        "\n",
        "axarr[0,0].set_ylabel('Train Predicted \\n Energy [mJ/m$^2$]')\n",
        "axarr[1,0].set_ylabel('Validation Predicted \\n Energy [mJ/m$^2$]')\n",
        "\n",
        "axarr[0,0].set_title('(a) Random Split',fontsize=9)\n",
        "axarr[0,1].set_title('(b) Dis. Ang. Train Low-Valid. High',fontsize=9)\n",
        "axarr[0,2].set_title('(c) Shuffled GB energies',fontsize=9)\n",
        "axarr[0,0].tick_params(top = True, labeltop=True)\n",
        "axarr[0,1].tick_params(top=True, labeltop=True)\n",
        "axarr[0,2].tick_params(top = True, labeltop=True)\n",
        "# axarr[1,0].tick_params(top=True)\n",
        "fig.savefig('final_plot.png',format='png',dpi=300)"
      ],
      "metadata": {
        "colab": {
          "base_uri": "https://localhost:8080/",
          "height": 381
        },
        "id": "6SHe1lmvtUjm",
        "outputId": "f6348d83-852d-4ae9-ec79-1829cad2e235"
      },
      "execution_count": 19,
      "outputs": [
        {
          "output_type": "display_data",
          "data": {
            "text/plain": [
              "<Figure size 538.583x368.504 with 7 Axes>"
            ],
            "image/png": "[encoded data removed]"
          },
          "metadata": {
            "needs_background": "light"
          }
        }
      ]
    }
  ]
}