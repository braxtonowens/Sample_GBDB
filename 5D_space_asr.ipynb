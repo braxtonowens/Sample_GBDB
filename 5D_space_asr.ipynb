{
  "nbformat": 4,
  "nbformat_minor": 0,
  "metadata": {
    "colab": {
      "name": "5D_space_asr.ipynb",
      "provenance": [],
      "authorship_tag": "ABX9TyN6qpjo/kJcB/nZ8HhCg6qX",
      "include_colab_link": true
    },
    "kernelspec": {
      "name": "python3",
      "display_name": "Python 3"
    },
    "language_info": {
      "name": "python"
    }
  },
  "cells": [
    {
      "cell_type": "markdown",
      "metadata": {
        "id": "view-in-github",
        "colab_type": "text"
      },
      "source": [
        "<a href=\"https://colab.research.google.com/github/braxtonowens/Sample_GBDB/blob/main/5D_space_asr.ipynb\" target=\"_parent\"><img src=\"https://colab.research.google.com/assets/colab-badge.svg\" alt=\"Open In Colab\"/></a>"
      ]
    },
    {
      "cell_type": "code",
      "execution_count": 1,
      "metadata": {
        "colab": {
          "base_uri": "https://localhost:8080/"
        },
        "id": "cqBeSr6tr5vO",
        "outputId": "26e4e5a1-9ea3-4af9-f146-68d7227deaf2"
      },
      "outputs": [
        {
          "output_type": "stream",
          "name": "stdout",
          "text": [
            "Collecting dscribe\n",
            "  Downloading dscribe-1.2.1.tar.gz (1.1 MB)\n",
            "\u001b[K     |████████████████████████████████| 1.1 MB 4.3 MB/s \n",
            "\u001b[?25hCollecting pybind11>=2.4\n",
            "  Using cached pybind11-2.9.1-py2.py3-none-any.whl (211 kB)\n",
            "Requirement already satisfied: numpy in /usr/local/lib/python3.7/dist-packages (from dscribe) (1.21.5)\n",
            "Requirement already satisfied: scipy in /usr/local/lib/python3.7/dist-packages (from dscribe) (1.4.1)\n",
            "Collecting ase>=3.19.0\n",
            "  Downloading ase-3.22.1-py3-none-any.whl (2.2 MB)\n",
            "\u001b[K     |████████████████████████████████| 2.2 MB 14.0 MB/s \n",
            "\u001b[?25hRequirement already satisfied: scikit-learn in /usr/local/lib/python3.7/dist-packages (from dscribe) (1.0.2)\n",
            "Requirement already satisfied: joblib>=1.0.0 in /usr/local/lib/python3.7/dist-packages (from dscribe) (1.1.0)\n",
            "Collecting sparse\n",
            "  Downloading sparse-0.13.0-py2.py3-none-any.whl (77 kB)\n",
            "\u001b[K     |████████████████████████████████| 77 kB 4.4 MB/s \n",
            "\u001b[?25hRequirement already satisfied: matplotlib>=3.1.0 in /usr/local/lib/python3.7/dist-packages (from ase>=3.19.0->dscribe) (3.2.2)\n",
            "Requirement already satisfied: kiwisolver>=1.0.1 in /usr/local/lib/python3.7/dist-packages (from matplotlib>=3.1.0->ase>=3.19.0->dscribe) (1.3.2)\n",
            "Requirement already satisfied: pyparsing!=2.0.4,!=2.1.2,!=2.1.6,>=2.0.1 in /usr/local/lib/python3.7/dist-packages (from matplotlib>=3.1.0->ase>=3.19.0->dscribe) (3.0.7)\n",
            "Requirement already satisfied: python-dateutil>=2.1 in /usr/local/lib/python3.7/dist-packages (from matplotlib>=3.1.0->ase>=3.19.0->dscribe) (2.8.2)\n",
            "Requirement already satisfied: cycler>=0.10 in /usr/local/lib/python3.7/dist-packages (from matplotlib>=3.1.0->ase>=3.19.0->dscribe) (0.11.0)\n",
            "Requirement already satisfied: six>=1.5 in /usr/local/lib/python3.7/dist-packages (from python-dateutil>=2.1->matplotlib>=3.1.0->ase>=3.19.0->dscribe) (1.15.0)\n",
            "Requirement already satisfied: threadpoolctl>=2.0.0 in /usr/local/lib/python3.7/dist-packages (from scikit-learn->dscribe) (3.1.0)\n",
            "Requirement already satisfied: numba>=0.49 in /usr/local/lib/python3.7/dist-packages (from sparse->dscribe) (0.51.2)\n",
            "Requirement already satisfied: setuptools in /usr/local/lib/python3.7/dist-packages (from numba>=0.49->sparse->dscribe) (57.4.0)\n",
            "Requirement already satisfied: llvmlite<0.35,>=0.34.0.dev0 in /usr/local/lib/python3.7/dist-packages (from numba>=0.49->sparse->dscribe) (0.34.0)\n",
            "Building wheels for collected packages: dscribe\n",
            "  Building wheel for dscribe (setup.py) ... \u001b[?25l\u001b[?25hdone\n",
            "  Created wheel for dscribe: filename=dscribe-1.2.1-cp37-cp37m-linux_x86_64.whl size=7060731 sha256=dcab93750688cf15b511f8690a5157feebb442fa788526dfbe9e54f7c86f35f0\n",
            "  Stored in directory: /root/.cache/pip/wheels/39/84/88/a929231f78f78406f35edd8479e3c9cf6464f182af71b55ee3\n",
            "Successfully built dscribe\n",
            "Installing collected packages: sparse, pybind11, ase, dscribe\n",
            "Successfully installed ase-3.22.1 dscribe-1.2.1 pybind11-2.9.1 sparse-0.13.0\n",
            "Requirement already satisfied: ase in /usr/local/lib/python3.7/dist-packages (3.22.1)\n",
            "Requirement already satisfied: scipy>=1.1.0 in /usr/local/lib/python3.7/dist-packages (from ase) (1.4.1)\n",
            "Requirement already satisfied: matplotlib>=3.1.0 in /usr/local/lib/python3.7/dist-packages (from ase) (3.2.2)\n",
            "Requirement already satisfied: numpy>=1.15.0 in /usr/local/lib/python3.7/dist-packages (from ase) (1.21.5)\n",
            "Requirement already satisfied: cycler>=0.10 in /usr/local/lib/python3.7/dist-packages (from matplotlib>=3.1.0->ase) (0.11.0)\n",
            "Requirement already satisfied: python-dateutil>=2.1 in /usr/local/lib/python3.7/dist-packages (from matplotlib>=3.1.0->ase) (2.8.2)\n",
            "Requirement already satisfied: pyparsing!=2.0.4,!=2.1.2,!=2.1.6,>=2.0.1 in /usr/local/lib/python3.7/dist-packages (from matplotlib>=3.1.0->ase) (3.0.7)\n",
            "Requirement already satisfied: kiwisolver>=1.0.1 in /usr/local/lib/python3.7/dist-packages (from matplotlib>=3.1.0->ase) (1.3.2)\n",
            "Requirement already satisfied: six>=1.5 in /usr/local/lib/python3.7/dist-packages (from python-dateutil>=2.1->matplotlib>=3.1.0->ase) (1.15.0)\n"
          ]
        }
      ],
      "source": [
        "# Google's Python Environment does not have dscribe(library used to run SOAP) Installed.\n",
        "# The use of ! in the cell runs terminal command.\n",
        "# This takes a few minutes to Download :( \n",
        "!pip install dscribe\n",
        "!pip install ase"
      ]
    },
    {
      "cell_type": "code",
      "source": [
        "!git clone https://github.com/braxtonowens/Sample_GBDB.git\n"
      ],
      "metadata": {
        "colab": {
          "base_uri": "https://localhost:8080/"
        },
        "id": "nyWY1BG_sD-D",
        "outputId": "5cef31c1-54de-4591-d802-94e61268de64"
      },
      "execution_count": 2,
      "outputs": [
        {
          "output_type": "stream",
          "name": "stdout",
          "text": [
            "Cloning into 'Sample_GBDB'...\n",
            "remote: Enumerating objects: 171, done.\u001b[K\n",
            "remote: Counting objects: 100% (171/171), done.\u001b[K\n",
            "remote: Compressing objects: 100% (170/170), done.\u001b[K\n",
            "remote: Total 171 (delta 16), reused 107 (delta 0), pack-reused 0\u001b[K\n",
            "Receiving objects: 100% (171/171), 19.88 MiB | 13.49 MiB/s, done.\n",
            "Resolving deltas: 100% (16/16), done.\n"
          ]
        }
      ]
    },
    {
      "cell_type": "code",
      "source": [
        "#Use ASE to read LAMMPS output files\n",
        "import ase.io\n",
        "import os\n",
        "\n",
        "gbpath = '/content/Sample_GBDB/data_lammps_out'\n",
        "atoms = []\n",
        "for i,file in enumerate(os.listdir(gbpath)):\n",
        "  atoms.append(ase.io.read(os.path.join(gbpath,file)))\n",
        "  atoms[i].set_atomic_numbers([13 for i in atoms[i]])"
      ],
      "metadata": {
        "id": "PN30_GPCsHk-"
      },
      "execution_count": 3,
      "outputs": []
    },
    {
      "cell_type": "code",
      "source": [
        "# Calculate SOAP for 100 gbs\n",
        "# This will take a few minutes\n",
        "\n",
        "from dscribe.descriptors import SOAP\n",
        "\n",
        "species = ['Al']\n",
        "rcut = 6.0\n",
        "nmax = 8\n",
        "lmax = 6\n",
        "\n",
        "# Setting up the SOAP descriptor\n",
        "soap = SOAP(\n",
        "    species=species,\n",
        "    periodic=False,\n",
        "    rcut=rcut,\n",
        "    nmax=nmax,\n",
        "    lmax=lmax,\n",
        ")\n",
        "\n",
        "allsoap = soap.create(atoms)"
      ],
      "metadata": {
        "id": "kKrG6sdXsT9v"
      },
      "execution_count": 4,
      "outputs": []
    },
    {
      "cell_type": "code",
      "source": [
        "def trim_soap(gb, soap, rcut, dim=2):\n",
        "    # trim off slice of width rcut from the very top and bottom of the GB\n",
        "    gbCenter = 0\n",
        "    positions = gb.positions[:, dim]\n",
        "    trim_top = max(positions)-rcut\n",
        "    trim_bot = min(positions)+rcut\n",
        "    idx_del = np.where(np.logical_or(positions > trim_top, positions < trim_bot))[0]\n",
        "\n",
        "    #delete the given indices from soap along the 0 axis\n",
        "    trimmed_soap = np.delete(soap,idx_del,0)\n",
        "    return trimmed_soap"
      ],
      "metadata": {
        "id": "M8dLIhMDKNZs"
      },
      "execution_count": 5,
      "outputs": []
    },
    {
      "cell_type": "code",
      "source": [
        "import numpy as np\n",
        "for i,atom in enumerate(allsoap):\n",
        "    gb = atoms[i]\n",
        "    result = trim_soap(gb, allsoap[i], 3.74)"
      ],
      "metadata": {
        "id": "mjVM7RuiKT_w"
      },
      "execution_count": 6,
      "outputs": []
    },
    {
      "cell_type": "code",
      "source": [
        "def asr(allsoap, norm_asr=False):\n",
        "    # for each gb, average and add to matrix, and return\n",
        "    asr_matrix = []\n",
        "    magnitude = 1\n",
        "    for soap in allsoap:\n",
        "        asr_row = np.average(soap, axis=0)\n",
        "        if norm_asr is True:\n",
        "            magnitude = np.linalg.norm(asr_row)\n",
        "        asr_matrix.append(asr_row / magnitude)\n",
        "    return np.array(asr_matrix)"
      ],
      "metadata": {
        "id": "W61192-nahjz"
      },
      "execution_count": 7,
      "outputs": []
    },
    {
      "cell_type": "code",
      "source": [
        "asrvec = asr(allsoap)\n",
        "energies = np.load('/content/Sample_GBDB/energies.npy')\n",
        "print(np.shape(asrvec))\n",
        "print(np.shape(energies))"
      ],
      "metadata": {
        "colab": {
          "base_uri": "https://localhost:8080/"
        },
        "id": "PN81GpXKYhJ8",
        "outputId": "dd65e820-83f1-4d4e-e972-0b3ae137d1c6"
      },
      "execution_count": 8,
      "outputs": [
        {
          "output_type": "stream",
          "name": "stdout",
          "text": [
            "(100, 252)\n",
            "(100,)\n"
          ]
        }
      ]
    },
    {
      "cell_type": "code",
      "source": [
        "def split_train_test(X,Y,idtrain,idvalid):\n",
        "    #split the data\n",
        "    K_train = X[idtrain,:].dot(X[idtrain,:].T) #subset of kernel matrix corresponding to training data\n",
        "    y_train = Y[idtrain]\n",
        "    K_valid = X[idvalid,:].dot(X[idtrain,:].T)\n",
        "    y_valid = Y[idvalid]\n",
        "    \n",
        "    #setup model\n",
        "    Cvalhomer = 1000; gammavalhomer = 'scale'; #(C,gamma) = (1000,100) in Homer paper\n",
        "    split_train_test.model = SVR(kernel='precomputed',C=Cvalhomer,gamma=gammavalhomer, verbose=False)\n",
        "    \n",
        "    #train the model\n",
        "    split_train_test.model.fit(K_train, y_train)\n",
        "    \n",
        "    #make predictions\n",
        "    y_pred_train = split_train_test.model.predict(K_train)\n",
        "    y_pred_valid = split_train_test.model.predict(K_valid)\n",
        "    \n",
        "    #calculate RMSE\n",
        "    train_rmse = np.sqrt(np.sum((y_pred_train - y_train)**2)/y_train.shape[0])\n",
        "    valid_rmse = np.sqrt(np.sum((y_pred_valid - y_valid)**2)/y_valid.shape[0])\n",
        "    #print('train RMS error: %f' % train_rmse)\n",
        "    #print('valid RMS error: %f' % valid_rmse)\n",
        "    \n",
        "    return (y_train, y_valid, y_pred_train, y_pred_valid, train_rmse, valid_rmse)"
      ],
      "metadata": {
        "id": "0wkaNffTbnN4"
      },
      "execution_count": 50,
      "outputs": []
    },
    {
      "cell_type": "code",
      "source": [
        "#get one random cross val\n",
        "\n",
        "from sklearn.svm import SVR\n",
        "from sklearn.model_selection import KFold\n",
        "import random\n",
        "\n",
        "ids = range(0,len(energies))\n",
        "random.seed(9999)\n",
        "idtrain = np.array(random.sample(ids,int(3*len(energies)/2))) \n",
        "idvalid = np.array(list(set(ids).difference(set(idtrain))))\n",
        "\n",
        "y_train_rand, y_valid_rand, y_pred_train_rand, y_pred_valid_rand, train_rmse_rand, valid_rmse_rand = split_train_test(asrvec,energies,idtrain,idvalid)"
      ],
      "metadata": {
        "id": "Jdr6uyFHsNkq"
      },
      "execution_count": 51,
      "outputs": []
    },
    {
      "cell_type": "code",
      "source": [
        "from matplotlib import pyplot as plt\n",
        "plt.scatter(y_train_rand, y_pred_train_rand)\n",
        "plt.xlim(350,550)\n",
        "plt.ylim(350,550)"
      ],
      "metadata": {
        "colab": {
          "base_uri": "https://localhost:8080/",
          "height": 287
        },
        "id": "er9XeQaF3I2L",
        "outputId": "daea7ed1-28c2-431a-a9dc-f01e8b7a8552"
      },
      "execution_count": 52,
      "outputs": [
        {
          "output_type": "execute_result",
          "data": {
            "text/plain": [
              "(350.0, 550.0)"
            ]
          },
          "metadata": {},
          "execution_count": 52
        },
        {
          "output_type": "display_data",
          "data": {
            "text/plain": [
              "<Figure size 432x288 with 1 Axes>"
            ],
            "image/png": "[encoded data removed]"
          },
          "metadata": {
            "needs_background": "light"
          }
        }
      ]
    }
  ]
}